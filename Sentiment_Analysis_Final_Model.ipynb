{
 "cells": [
  {
   "cell_type": "code",
   "execution_count": 1,
   "metadata": {},
   "outputs": [
    {
     "name": "stderr",
     "output_type": "stream",
     "text": [
      "Token indices sequence length is longer than the specified maximum sequence length for this model (983 > 512). Running this sequence through the model will result in indexing errors\n",
      "Exception in Tkinter callback\n",
      "Traceback (most recent call last):\n",
      "  File \"c:\\Users\\amber\\OneDrive\\Desktop\\Mishka\\HandWriting_Digit_System\\.conda\\lib\\tkinter\\__init__.py\", line 1921, in __call__\n",
      "    return self.func(*args)\n",
      "  File \"C:\\Users\\amber\\AppData\\Local\\Temp\\ipykernel_22936\\3369639527.py\", line 12, in load_file\n",
      "    perform_sentiment_analysis(content)\n",
      "  File \"C:\\Users\\amber\\AppData\\Local\\Temp\\ipykernel_22936\\3369639527.py\", line 16, in perform_sentiment_analysis\n",
      "    result = model(tokens)\n",
      "  File \"c:\\Users\\amber\\OneDrive\\Desktop\\Mishka\\HandWriting_Digit_System\\.conda\\lib\\site-packages\\torch\\nn\\modules\\module.py\", line 1532, in _wrapped_call_impl\n",
      "    return self._call_impl(*args, **kwargs)\n",
      "  File \"c:\\Users\\amber\\OneDrive\\Desktop\\Mishka\\HandWriting_Digit_System\\.conda\\lib\\site-packages\\torch\\nn\\modules\\module.py\", line 1541, in _call_impl\n",
      "    return forward_call(*args, **kwargs)\n",
      "  File \"c:\\Users\\amber\\OneDrive\\Desktop\\Mishka\\HandWriting_Digit_System\\.conda\\lib\\site-packages\\transformers\\models\\bert\\modeling_bert.py\", line 1695, in forward\n",
      "    outputs = self.bert(\n",
      "  File \"c:\\Users\\amber\\OneDrive\\Desktop\\Mishka\\HandWriting_Digit_System\\.conda\\lib\\site-packages\\torch\\nn\\modules\\module.py\", line 1532, in _wrapped_call_impl\n",
      "    return self._call_impl(*args, **kwargs)\n",
      "  File \"c:\\Users\\amber\\OneDrive\\Desktop\\Mishka\\HandWriting_Digit_System\\.conda\\lib\\site-packages\\torch\\nn\\modules\\module.py\", line 1541, in _call_impl\n",
      "    return forward_call(*args, **kwargs)\n",
      "  File \"c:\\Users\\amber\\OneDrive\\Desktop\\Mishka\\HandWriting_Digit_System\\.conda\\lib\\site-packages\\transformers\\models\\bert\\modeling_bert.py\", line 1072, in forward\n",
      "    buffered_token_type_ids_expanded = buffered_token_type_ids.expand(batch_size, seq_length)\n",
      "RuntimeError: The expanded size of the tensor (983) must match the existing size (512) at non-singleton dimension 1.  Target sizes: [1, 983].  Tensor sizes: [1, 512]\n"
     ]
    }
   ],
   "source": [
    "import tkinter as tk\n",
    "from tkinter import filedialog\n",
    "from transformers import AutoTokenizer, AutoModelForSequenceClassification\n",
    "import torch\n",
    "\n",
    "def load_file():\n",
    "    file_path = filedialog.askopenfilename(filetypes=[(\"Text Files\", \"*.txt\")])\n",
    "    if file_path:\n",
    "        with open(file_path, \"r\") as file:\n",
    "            content = file.read()\n",
    "        file_content.set(content)\n",
    "        perform_sentiment_analysis(content)\n",
    "\n",
    "def perform_sentiment_analysis(content):\n",
    "    tokens = tokenizer.encode(content, return_tensors='pt')\n",
    "    result = model(tokens)\n",
    "    sentiment = int(torch.argmax(result.logits)) + 1\n",
    "    if sentiment == 1:\n",
    "        sentiment_result.set(\"Very negative sentiment\")\n",
    "    elif sentiment == 2:\n",
    "        sentiment_result.set(\"Somewhat negative sentiment\")\n",
    "    elif sentiment == 3:\n",
    "        sentiment_result.set(\"Neutral sentiment\")\n",
    "    elif sentiment == 4:\n",
    "        sentiment_result.set(\"Somewhat positive sentiment\")\n",
    "    else:\n",
    "        sentiment_result.set(\"Very positive sentiment\")\n",
    "\n",
    "root = tk.Tk()\n",
    "root.title(\"Load Text File\")\n",
    "\n",
    "label = tk.Label(root, text=\"Select a .txt file:\")\n",
    "label.pack()\n",
    "\n",
    "button = tk.Button(root, text=\"Browse\", command=load_file)\n",
    "button.pack()\n",
    "\n",
    "file_content = tk.StringVar()\n",
    "content_label = tk.Label(root, textvariable=file_content)\n",
    "content_label.pack()\n",
    "\n",
    "sentiment_result = tk.StringVar()\n",
    "sentiment_label = tk.Label(root, textvariable=sentiment_result)\n",
    "sentiment_label.pack()\n",
    "\n",
    "# Load the sentiment analysis model\n",
    "tokenizer = AutoTokenizer.from_pretrained('nlptown/bert-base-multilingual-uncased-sentiment')\n",
    "model = AutoModelForSequenceClassification.from_pretrained('nlptown/bert-base-multilingual-uncased-sentiment')\n",
    "\n",
    "root.mainloop()\n"
   ]
  }
 ],
 "metadata": {
  "kernelspec": {
   "display_name": "Python 3",
   "language": "python",
   "name": "python3"
  },
  "language_info": {
   "codemirror_mode": {
    "name": "ipython",
    "version": 3
   },
   "file_extension": ".py",
   "mimetype": "text/x-python",
   "name": "python",
   "nbconvert_exporter": "python",
   "pygments_lexer": "ipython3",
   "version": "3.10.14"
  }
 },
 "nbformat": 4,
 "nbformat_minor": 2
}
